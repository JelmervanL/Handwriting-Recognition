{
 "cells": [
  {
   "cell_type": "code",
   "execution_count": 134,
   "metadata": {},
   "outputs": [],
   "source": [
    "import os \n",
    "import random\n",
    "import cv2\n",
    "import numpy as np\n",
    "from matplotlib import pyplot as plt"
   ]
  },
  {
   "cell_type": "code",
   "execution_count": 2,
   "metadata": {},
   "outputs": [],
   "source": [
    "data_path = \"monkbrill-jpg/\"\n",
    "labels = []\n",
    "for subdir in os.listdir(data_path):\n",
    "    current_path = os.path.join(data_path, subdir)\n",
    "    for file in os.listdir(current_path):\n",
    "        current_path = os.path.join(data_path, subdir)\n",
    "        labels.append(subdir)"
   ]
  },
  {
   "cell_type": "code",
   "execution_count": 120,
   "metadata": {},
   "outputs": [],
   "source": [
    "random_char = random.choice(os.listdir(data_path))\n",
    "random_folder = os.path.join(data_path, random_char)\n",
    "random_file = random.choice(os.listdir(random_folder))"
   ]
  },
  {
   "cell_type": "code",
   "execution_count": 131,
   "metadata": {},
   "outputs": [
    {
     "data": {
      "image/png": "[encoded data removed]",
      "text/plain": [
       "<Figure size 432x288 with 1 Axes>"
      ]
     },
     "metadata": {
      "needs_background": "light"
     },
     "output_type": "display_data"
    }
   ],
   "source": [
    "im = cv2.imread(os.path.join(random_folder, random_file), cv2.IMREAD_GRAYSCALE)\n",
    "plt.imshow(im, cmap='gray')\n",
    "plt.show()"
   ]
  },
  {
   "cell_type": "code",
   "execution_count": 37,
   "metadata": {},
   "outputs": [],
   "source": [
    "def get_random_eraser(p=1, s_l=0.02, s_h=0.4, r_1=0.3, r_2=1/0.3, v_l=0, v_h=255, pixel_level=False):\n",
    "    def eraser(input_img):\n",
    "        if input_img.ndim == 3:\n",
    "            img_h, img_w, img_c = input_img.shape\n",
    "        elif input_img.ndim == 2:\n",
    "            img_h, img_w = input_img.shape\n",
    "\n",
    "        p_1 = np.random.rand()\n",
    "\n",
    "        if p_1 > p:\n",
    "            return input_img\n",
    "\n",
    "        while True:\n",
    "            s = np.random.uniform(s_l, s_h) * img_h * img_w\n",
    "            r = np.random.uniform(r_1, r_2)\n",
    "            w = int(np.sqrt(s / r))\n",
    "            h = int(np.sqrt(s * r))\n",
    "            left = np.random.randint(0, img_w)\n",
    "            top = np.random.randint(0, img_h)\n",
    "\n",
    "            if left + w <= img_w and top + h <= img_h:\n",
    "                break\n",
    "\n",
    "        if pixel_level:\n",
    "            if input_img.ndim == 3:\n",
    "                c = np.random.uniform(v_l, v_h, (h, w, img_c))\n",
    "            if input_img.ndim == 2:\n",
    "                c = np.random.uniform(v_l, v_h, (h, w))\n",
    "        else:\n",
    "            c = np.random.uniform(v_l, v_h)\n",
    "\n",
    "        input_img[top:top + h, left:left + w] = c\n",
    "\n",
    "        return input_img\n",
    "\n",
    "    return eraser"
   ]
  },
  {
   "cell_type": "code",
   "execution_count": 106,
   "metadata": {},
   "outputs": [],
   "source": [
    "# augmentation functions\n",
    "\n",
    "def keep_original(img):\n",
    "    return img\n",
    "\n",
    "def erosion(img):\n",
    "    kernel_size = random.randint(2, 4)\n",
    "    kernel = np.ones((kernel_size,kernel_size), np.uint8)\n",
    "    img = cv2.erode(img, kernel, iterations=1)\n",
    "    return img\n",
    "\n",
    "def dilation(img):\n",
    "    kernel_size = random.randint(2, 4)\n",
    "    kernel = np.ones((kernel_size,kernel_size), np.uint8)\n",
    "    img = cv2.dilate(img, kernel, iterations=1)\n",
    "    return img\n",
    "\n",
    "def rotate(img):\n",
    "    rows = img.shape[0]\n",
    "    cols = img.shape[1]\n",
    "\n",
    "    img_center = (cols / 2, rows / 2)\n",
    "    M = cv2.getRotationMatrix2D(img_center, random.randint(-10, 10), 1)\n",
    "    rotated_image = cv2.warpAffine(img, M, (cols, rows),\n",
    "                           borderMode=cv2.BORDER_CONSTANT,\n",
    "                           borderValue=(255))\n",
    "\n",
    "    return rotated_image\n",
    "\n",
    "def cutout(img):\n",
    "    eraser = get_random_eraser(p=1, s_l=0.05, s_h=0.3, r_1=0.25, r_2=1/0.25, v_h=255, v_l=255, pixel_level=False)\n",
    "    img = eraser(img)\n",
    "    return img"
   ]
  },
  {
   "cell_type": "code",
   "execution_count": 132,
   "metadata": {},
   "outputs": [
    {
     "data": {
      "image/png": "[encoded data removed]",
      "text/plain": [
       "<Figure size 432x288 with 1 Axes>"
      ]
     },
     "metadata": {
      "needs_background": "light"
     },
     "output_type": "display_data"
    }
   ],
   "source": [
    "im = rotate(im)\n",
    "plt.imshow(im, cmap='gray')\n",
    "plt.show()\n"
   ]
  },
  {
   "cell_type": "code",
   "execution_count": 107,
   "metadata": {},
   "outputs": [],
   "source": [
    "# dictionary of the transformations we defined earlier\n",
    "available_transformations = {\n",
    "    'original': keep_original,\n",
    "    'rotation': rotate,\n",
    "    'dilation': dilation,\n",
    "    'erosion': erosion,\n",
    "    'cutout': cutout\n",
    "}\n",
    "\n",
    "save_path = 'monkbrill-jpg-augmented/'\n",
    "\n",
    "if not os.path.exists(save_path):\n",
    "    os.makedirs(save_path)\n"
   ]
  },
  {
   "cell_type": "code",
   "execution_count": 109,
   "metadata": {},
   "outputs": [],
   "source": [
    "# Create new augmented images and save in folder\n",
    "# first a random character is chosen with even probability\n",
    "# Then random image of that character is chosen\n",
    "# Then one of the augmentation functions is applied and the image is saved\n",
    "\n",
    "num_files_desired = 50000\n",
    "\n",
    "num_generated_files = 0\n",
    "while num_generated_files < num_files_desired:\n",
    "\n",
    "    random_char = random.choice(os.listdir(data_path))\n",
    "    random_folder = os.path.join(data_path, random_char)\n",
    "    random_file = random.choice(os.listdir(random_folder))\n",
    "\n",
    "    image_to_transform = cv2.imread(os.path.join(random_folder, random_file), cv2.IMREAD_GRAYSCALE)\n",
    "    \n",
    "    key = random.choice(list(available_transformations))\n",
    "    transformed_image = available_transformations[key](image_to_transform)\n",
    "\n",
    "    char_save = os.path.join(save_path, random_char)\n",
    "    if not os.path.exists(char_save):\n",
    "        os.makedirs(char_save)\n",
    "    \n",
    "    cv2.imwrite(os.path.join(char_save, random_char +'_aug_' + str(num_generated_files) + '.jpg'), transformed_image)\n",
    "    \n",
    "\n",
    "    num_generated_files += 1"
   ]
  }
 ],
 "metadata": {
  "interpreter": {
   "hash": "19ffe857a2ab32f5ffd08fe3d367f83053230d937faf3a2e2967295e5b1b4b03"
  },
  "kernelspec": {
   "display_name": "Python 3.9.12 64-bit (windows store)",
   "language": "python",
   "name": "python3"
  },
  "language_info": {
   "codemirror_mode": {
    "name": "ipython",
    "version": 3
   },
   "file_extension": ".py",
   "mimetype": "text/x-python",
   "name": "python",
   "nbconvert_exporter": "python",
   "pygments_lexer": "ipython3",
   "version": "3.9.12"
  },
  "orig_nbformat": 4
 },
 "nbformat": 4,
 "nbformat_minor": 2
}
