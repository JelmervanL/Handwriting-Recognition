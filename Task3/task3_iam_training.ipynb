{
  "cells": [
    {
      "cell_type": "markdown",
      "metadata": {
        "id": "I1XxtDVmt3kP"
      },
      "source": [
        "# Import libraries"
      ]
    },
    {
      "cell_type": "code",
      "execution_count": 5,
      "metadata": {
        "id": "JsnR1Amat3kS"
      },
      "outputs": [],
      "source": [
        "import os\n",
        "import pandas as pd\n",
        "from sklearn.model_selection import train_test_split\n",
        "import torch\n",
        "from torch.utils.data import Dataset\n",
        "from PIL import Image\n",
        "from transformers import TrOCRProcessor,  VisionEncoderDecoderModel, Seq2SeqTrainer, Seq2SeqTrainingArguments, default_data_collator\n",
        "from datasets import load_metric"
      ]
    },
    {
      "cell_type": "markdown",
      "metadata": {
        "id": "pcidzlgKt3kT"
      },
      "source": [
        "# Load and prepare data"
      ]
    },
    {
      "cell_type": "code",
      "execution_count": 6,
      "metadata": {
        "colab": {
          "base_uri": "https://localhost:8080/",
          "height": 206
        },
        "id": "mCbRfIeNt3kU",
        "outputId": "4633587c-2e15-4767-b3c1-a750680987fd"
      },
      "outputs": [
        {
          "data": {
            "text/html": [
              "\n",
              "  <div id=\"df-4b7f348e-7c93-4dc5-a83b-c010babd42f0\">\n",
              "    <div class=\"colab-df-container\">\n",
              "      <div>\n",
              "<style scoped>\n",
              "    .dataframe tbody tr th:only-of-type {\n",
              "        vertical-align: middle;\n",
              "    }\n",
              "\n",
              "    .dataframe tbody tr th {\n",
              "        vertical-align: top;\n",
              "    }\n",
              "\n",
              "    .dataframe thead th {\n",
              "        text-align: right;\n",
              "    }\n",
              "</style>\n",
              "<table border=\"1\" class=\"dataframe\">\n",
              "  <thead>\n",
              "    <tr style=\"text-align: right;\">\n",
              "      <th></th>\n",
              "      <th>file_name</th>\n",
              "      <th>text</th>\n",
              "    </tr>\n",
              "  </thead>\n",
              "  <tbody>\n",
              "    <tr>\n",
              "      <th>0</th>\n",
              "      <td>a03-017-07.png</td>\n",
              "      <td>into the pro-communist north and the</td>\n",
              "    </tr>\n",
              "    <tr>\n",
              "      <th>1</th>\n",
              "      <td>a03-017-05.png</td>\n",
              "      <td>to 1958 kept the kingdom in peace, though</td>\n",
              "    </tr>\n",
              "    <tr>\n",
              "      <th>2</th>\n",
              "      <td>a03-017-08.png</td>\n",
              "      <td>pro-western centre and south.</td>\n",
              "    </tr>\n",
              "    <tr>\n",
              "      <th>3</th>\n",
              "      <td>a03-017-02.png</td>\n",
              "      <td>in Phnom Penh indicate that he still regards</td>\n",
              "    </tr>\n",
              "    <tr>\n",
              "      <th>4</th>\n",
              "      <td>a03-017-06.png</td>\n",
              "      <td>at the cost of virtual partition of the country</td>\n",
              "    </tr>\n",
              "  </tbody>\n",
              "</table>\n",
              "</div>\n",
              "      <button class=\"colab-df-convert\" onclick=\"convertToInteractive('df-4b7f348e-7c93-4dc5-a83b-c010babd42f0')\"\n",
              "              title=\"Convert this dataframe to an interactive table.\"\n",
              "              style=\"display:none;\">\n",
              "        \n",
              "  <svg xmlns=\"http://www.w3.org/2000/svg\" height=\"24px\"viewBox=\"0 0 24 24\"\n",
              "       width=\"24px\">\n",
              "    <path d=\"M0 0h24v24H0V0z\" fill=\"none\"/>\n",
              "    <path d=\"M18.56 5.44l.94 2.06.94-2.06 2.06-.94-2.06-.94-.94-2.06-.94 2.06-2.06.94zm-11 1L8.5 8.5l.94-2.06 2.06-.94-2.06-.94L8.5 2.5l-.94 2.06-2.06.94zm10 10l.94 2.06.94-2.06 2.06-.94-2.06-.94-.94-2.06-.94 2.06-2.06.94z\"/><path d=\"M17.41 7.96l-1.37-1.37c-.4-.4-.92-.59-1.43-.59-.52 0-1.04.2-1.43.59L10.3 9.45l-7.72 7.72c-.78.78-.78 2.05 0 2.83L4 21.41c.39.39.9.59 1.41.59.51 0 1.02-.2 1.41-.59l7.78-7.78 2.81-2.81c.8-.78.8-2.07 0-2.86zM5.41 20L4 18.59l7.72-7.72 1.47 1.35L5.41 20z\"/>\n",
              "  </svg>\n",
              "      </button>\n",
              "      \n",
              "  <style>\n",
              "    .colab-df-container {\n",
              "      display:flex;\n",
              "      flex-wrap:wrap;\n",
              "      gap: 12px;\n",
              "    }\n",
              "\n",
              "    .colab-df-convert {\n",
              "      background-color: #E8F0FE;\n",
              "      border: none;\n",
              "      border-radius: 50%;\n",
              "      cursor: pointer;\n",
              "      display: none;\n",
              "      fill: #1967D2;\n",
              "      height: 32px;\n",
              "      padding: 0 0 0 0;\n",
              "      width: 32px;\n",
              "    }\n",
              "\n",
              "    .colab-df-convert:hover {\n",
              "      background-color: #E2EBFA;\n",
              "      box-shadow: 0px 1px 2px rgba(60, 64, 67, 0.3), 0px 1px 3px 1px rgba(60, 64, 67, 0.15);\n",
              "      fill: #174EA6;\n",
              "    }\n",
              "\n",
              "    [theme=dark] .colab-df-convert {\n",
              "      background-color: #3B4455;\n",
              "      fill: #D2E3FC;\n",
              "    }\n",
              "\n",
              "    [theme=dark] .colab-df-convert:hover {\n",
              "      background-color: #434B5C;\n",
              "      box-shadow: 0px 1px 3px 1px rgba(0, 0, 0, 0.15);\n",
              "      filter: drop-shadow(0px 1px 2px rgba(0, 0, 0, 0.3));\n",
              "      fill: #FFFFFF;\n",
              "    }\n",
              "  </style>\n",
              "\n",
              "      <script>\n",
              "        const buttonEl =\n",
              "          document.querySelector('#df-4b7f348e-7c93-4dc5-a83b-c010babd42f0 button.colab-df-convert');\n",
              "        buttonEl.style.display =\n",
              "          google.colab.kernel.accessAllowed ? 'block' : 'none';\n",
              "\n",
              "        async function convertToInteractive(key) {\n",
              "          const element = document.querySelector('#df-4b7f348e-7c93-4dc5-a83b-c010babd42f0');\n",
              "          const dataTable =\n",
              "            await google.colab.kernel.invokeFunction('convertToInteractive',\n",
              "                                                     [key], {});\n",
              "          if (!dataTable) return;\n",
              "\n",
              "          const docLinkHtml = 'Like what you see? Visit the ' +\n",
              "            '<a target=\"_blank\" href=https://colab.research.google.com/notebooks/data_table.ipynb>data table notebook</a>'\n",
              "            + ' to learn more about interactive tables.';\n",
              "          element.innerHTML = '';\n",
              "          dataTable['output_type'] = 'display_data';\n",
              "          await google.colab.output.renderOutput(dataTable, element);\n",
              "          const docLink = document.createElement('div');\n",
              "          docLink.innerHTML = docLinkHtml;\n",
              "          element.appendChild(docLink);\n",
              "        }\n",
              "      </script>\n",
              "    </div>\n",
              "  </div>\n",
              "  "
            ],
            "text/plain": [
              "        file_name                                             text\n",
              "0  a03-017-07.png             into the pro-communist north and the\n",
              "1  a03-017-05.png        to 1958 kept the kingdom in peace, though\n",
              "2  a03-017-08.png                    pro-western centre and south.\n",
              "3  a03-017-02.png     in Phnom Penh indicate that he still regards\n",
              "4  a03-017-06.png  at the cost of virtual partition of the country"
            ]
          },
          "execution_count": 6,
          "metadata": {},
          "output_type": "execute_result"
        }
      ],
      "source": [
        "# Read file names and text labels, and put them in a dataframe\n",
        "df = pd.read_fwf('IAM-data/IAM-data/iam_lines_gt.txt', header=None)\n",
        "file_names = df.iloc[::2]\n",
        "text = df.iloc[1::2]\n",
        "del df\n",
        "file_names.columns = ['file_name']\n",
        "text.columns = ['text']\n",
        "file_names.reset_index(drop=True, inplace=True)\n",
        "text.reset_index(drop=True, inplace=True)\n",
        "\n",
        "data = pd.concat([file_names, text], axis=1)\n",
        "data.head()\n"
      ]
    },
    {
      "cell_type": "code",
      "execution_count": 7,
      "metadata": {
        "colab": {
          "base_uri": "https://localhost:8080/"
        },
        "id": "yeHZUZ6Dt3kV",
        "outputId": "12955763-670d-4e8f-9d56-38e34396b9cf"
      },
      "outputs": [
        {
          "name": "stdout",
          "output_type": "stream",
          "text": [
            "54\n"
          ]
        }
      ],
      "source": [
        "# Check longest amount of text \n",
        "print(data['text'].apply(len).max())"
      ]
    },
    {
      "cell_type": "code",
      "execution_count": 8,
      "metadata": {
        "id": "Qnxt2n7xt3kW"
      },
      "outputs": [],
      "source": [
        "# split train and validation data in 80% train 10% val and 10% test\n",
        "train_data, val_data = train_test_split(data, test_size=0.2, random_state=0)\n",
        "train_data.reset_index(drop=True, inplace=True)\n",
        "val_data.reset_index(drop=True, inplace=True)\n",
        "\n",
        "val_data, test_data = train_test_split(val_data, test_size=0.5, random_state=0)\n",
        "val_data.reset_index(drop=True, inplace=True)\n",
        "test_data.reset_index(drop=True, inplace=True)"
      ]
    },
    {
      "cell_type": "code",
      "execution_count": 9,
      "metadata": {
        "id": "MXDEpxhft3kX"
      },
      "outputs": [],
      "source": [
        "# Create regular Pytorch dataset to load images and process them during training\n",
        "\n",
        "class Task3IAM(Dataset):\n",
        "    def __init__(self, img_dir, data, processor, max_target_length = 64):\n",
        "        self.img_dir = img_dir\n",
        "        self.data = data\n",
        "        self.processor = processor\n",
        "        self.max_target_length = max_target_length\n",
        "\n",
        "    def __len__(self):\n",
        "        return len(self.data)\n",
        "\n",
        "    def __getitem__(self, idx):\n",
        "        file_name = self.data['file_name'][idx]\n",
        "        text = self.data['text'][idx]\n",
        "        # Load image and get image ready for model \n",
        "        image = Image.open(os.path.join(self.img_dir, file_name)).convert(\"RGB\")\n",
        "        pixel_values = self.processor(image, return_tensors= \"pt\").pixel_values\n",
        "\n",
        "        labels = self.processor.tokenizer(text, padding= \"max_length\", max_length = self.max_target_length).input_ids   # tokenize text label\n",
        "        labels = [label if label != self.processor.tokenizer.pad_token_id else -100 for label in labels]    # Ignore pad tokens for the loss function\n",
        "        encoding = {\"pixel_values\": pixel_values.squeeze(), \"labels\": torch.tensor(labels)}\n",
        "        \n",
        "        return encoding"
      ]
    },
    {
      "cell_type": "code",
      "execution_count": 10,
      "metadata": {
        "id": "oa8Pnysrt3kY"
      },
      "outputs": [],
      "source": [
        "# load processor (resize/normalize images and tokenizer), and load pytorch dataset\n",
        "processor = TrOCRProcessor.from_pretrained(\"microsoft/trocr-small-handwritten\")\n",
        "train_dataset = Task3IAM(img_dir='IAM-data/IAM-data/img/', data = train_data, processor = processor)\n",
        "eval_dataset = Task3IAM(img_dir='IAM-data/IAM-data/img/', data = val_data, processor = processor)\n",
        "test_dataset = Task3IAM(img_dir='IAM-data/IAM-data/img/', data = test_data, processor = processor)"
      ]
    },
    {
      "cell_type": "code",
      "execution_count": 11,
      "metadata": {
        "colab": {
          "base_uri": "https://localhost:8080/"
        },
        "id": "UyTKhCr_t3kZ",
        "outputId": "a1aa65a7-ae6b-4d31-c45a-a6fd70c3f716"
      },
      "outputs": [
        {
          "name": "stdout",
          "output_type": "stream",
          "text": [
            "Number of training examples: 5966\n",
            "Number of validation examples: 746\n",
            "Number of test examples: 746\n"
          ]
        }
      ],
      "source": [
        "print(\"Number of training examples:\", len(train_dataset))\n",
        "print(\"Number of validation examples:\", len(eval_dataset))\n",
        "print(\"Number of test examples:\", len(test_dataset))"
      ]
    },
    {
      "cell_type": "markdown",
      "metadata": {
        "id": "d90eVu1lt3kc"
      },
      "source": [
        "# Fine tune model"
      ]
    },
    {
      "cell_type": "code",
      "execution_count": 15,
      "metadata": {
        "colab": {
          "base_uri": "https://localhost:8080/"
        },
        "id": "q37UYEQft3kc",
        "outputId": "c41c99b1-39be-40f2-81a2-faf49cd4f809"
      },
      "outputs": [
        {
          "name": "stderr",
          "output_type": "stream",
          "text": [
            "Some weights of VisionEncoderDecoderModel were not initialized from the model checkpoint at microsoft/trocr-small-stage1 and are newly initialized: ['encoder.pooler.dense.weight', 'encoder.pooler.dense.bias']\n",
            "You should probably TRAIN this model on a down-stream task to be able to use it for predictions and inference.\n"
          ]
        }
      ],
      "source": [
        "# Import pretrained model\n",
        "model = VisionEncoderDecoderModel.from_pretrained(\"microsoft/trocr-small-stage1\")\n",
        "\n",
        "# Change settings for pretrained model\n",
        "# set special tokens used for creating the decoder_input_ids from the labels\n",
        "model.config.decoder_start_token_id = processor.tokenizer.cls_token_id ### This statement is maybe not needed, not sure if required to work. If inference does not work maybe delete this\n",
        "model.config.pad_token_id = processor.tokenizer.pad_token_id\n",
        "# make sure vocab size is set correctly\n",
        "model.config.vocab_size = model.config.decoder.vocab_size\n",
        "\n",
        "# set beam search parameters of model for generating text: increases performance of model\n",
        "model.config.eos_token_id = processor.tokenizer.sep_token_id\n",
        "model.config.max_length = 64\n",
        "model.config.early_stopping = True\n",
        "model.config.no_repeat_ngram_size = 3\n",
        "model.config.num_beams = 5"
      ]
    },
    {
      "cell_type": "code",
      "execution_count": 16,
      "metadata": {
        "colab": {
          "base_uri": "https://localhost:8080/"
        },
        "id": "gF74ic-Rt3kd",
        "outputId": "99c0a18f-6b87-4583-9276-3cc2972f3d9d"
      },
      "outputs": [
        {
          "name": "stdout",
          "output_type": "stream",
          "text": [
            "61596672\n"
          ]
        }
      ],
      "source": [
        "# Count parameters in model\n",
        "print(sum([param.nelement() for param in model.parameters()]))"
      ]
    },
    {
      "cell_type": "code",
      "execution_count": 17,
      "metadata": {
        "id": "4WD9hZMXt3kd"
      },
      "outputs": [],
      "source": [
        "# set training parameters\n",
        "training_args = Seq2SeqTrainingArguments(\n",
        "    output_dir=\"models/trocr-small-5beam/\",\n",
        "    num_train_epochs = 10,\n",
        "    per_device_train_batch_size = 16,\n",
        "    per_device_eval_batch_size = 16,\n",
        "    evaluation_strategy = \"epoch\",\n",
        "    logging_steps = 20,\n",
        "    save_strategy = \"epoch\",\n",
        "    predict_with_generate = True, \n",
        ")"
      ]
    },
    {
      "cell_type": "code",
      "execution_count": 18,
      "metadata": {
        "id": "ijvYf5nzt3ke"
      },
      "outputs": [],
      "source": [
        "# create function to calculate cer between label text and generated text, to evaluate during during training\n",
        "cer_metric = load_metric(\"cer\")\n",
        "def compute_cer(pred):\n",
        "    labels_ids = pred.label_ids\n",
        "    pred_ids = pred.predictions\n",
        "    pred_str = processor.batch_decode(pred_ids, skip_special_tokens=True)\n",
        "    labels_ids[labels_ids == -100] = processor.tokenizer.pad_token_id\n",
        "    label_str = processor.batch_decode(labels_ids, skip_special_tokens=True)\n",
        "    cer = cer_metric.compute(predictions=pred_str, references=label_str)\n",
        "\n",
        "    return {\"cer\": cer * 100}\n",
        "\n",
        "# initialize trainer\n",
        "trainer = Seq2SeqTrainer(\n",
        "    model = model,\n",
        "    args = training_args,\n",
        "    train_dataset = train_dataset,\n",
        "    eval_dataset = eval_dataset,\n",
        "    tokenizer = processor.feature_extractor,\n",
        "    compute_metrics = compute_cer,\n",
        "    data_collator = default_data_collator,\n",
        ")"
      ]
    },
    {
      "cell_type": "code",
      "execution_count": 19,
      "metadata": {
        "colab": {
          "base_uri": "https://localhost:8080/",
          "height": 1000
        },
        "id": "jRS3PcVYt3kf",
        "outputId": "ecfeecaf-c6a6-457e-9ec1-58833cc3f758"
      },
      "outputs": [
        {
          "name": "stderr",
          "output_type": "stream",
          "text": [
            "/usr/local/lib/python3.7/dist-packages/transformers/optimization.py:309: FutureWarning: This implementation of AdamW is deprecated and will be removed in a future version. Use the PyTorch implementation torch.optim.AdamW instead, or set `no_deprecation_warning=True` to disable this warning\n",
            "  FutureWarning,\n",
            "***** Running training *****\n",
            "  Num examples = 5966\n",
            "  Num Epochs = 10\n",
            "  Instantaneous batch size per device = 16\n",
            "  Total train batch size (w. parallel, distributed & accumulation) = 16\n",
            "  Gradient Accumulation steps = 1\n",
            "  Total optimization steps = 3730\n"
          ]
        },
        {
          "data": {
            "text/html": [
              "\n",
              "    <div>\n",
              "      \n",
              "      <progress value='3730' max='3730' style='width:300px; height:20px; vertical-align: middle;'></progress>\n",
              "      [3730/3730 1:36:25, Epoch 10/10]\n",
              "    </div>\n",
              "    <table border=\"1\" class=\"dataframe\">\n",
              "  <thead>\n",
              " <tr style=\"text-align: left;\">\n",
              "      <th>Epoch</th>\n",
              "      <th>Training Loss</th>\n",
              "      <th>Validation Loss</th>\n",
              "      <th>Cer</th>\n",
              "    </tr>\n",
              "  </thead>\n",
              "  <tbody>\n",
              "    <tr>\n",
              "      <td>1</td>\n",
              "      <td>1.037800</td>\n",
              "      <td>0.952534</td>\n",
              "      <td>28.832850</td>\n",
              "    </tr>\n",
              "    <tr>\n",
              "      <td>2</td>\n",
              "      <td>0.761100</td>\n",
              "      <td>0.810736</td>\n",
              "      <td>29.285555</td>\n",
              "    </tr>\n",
              "    <tr>\n",
              "      <td>3</td>\n",
              "      <td>0.541100</td>\n",
              "      <td>0.772294</td>\n",
              "      <td>18.602353</td>\n",
              "    </tr>\n",
              "    <tr>\n",
              "      <td>4</td>\n",
              "      <td>0.463500</td>\n",
              "      <td>0.722455</td>\n",
              "      <td>25.093251</td>\n",
              "    </tr>\n",
              "    <tr>\n",
              "      <td>5</td>\n",
              "      <td>0.370500</td>\n",
              "      <td>0.696841</td>\n",
              "      <td>21.917939</td>\n",
              "    </tr>\n",
              "    <tr>\n",
              "      <td>6</td>\n",
              "      <td>0.307100</td>\n",
              "      <td>0.691399</td>\n",
              "      <td>22.150668</td>\n",
              "    </tr>\n",
              "    <tr>\n",
              "      <td>7</td>\n",
              "      <td>0.081100</td>\n",
              "      <td>0.528217</td>\n",
              "      <td>6.704498</td>\n",
              "    </tr>\n",
              "    <tr>\n",
              "      <td>8</td>\n",
              "      <td>0.076100</td>\n",
              "      <td>0.525633</td>\n",
              "      <td>6.140211</td>\n",
              "    </tr>\n",
              "    <tr>\n",
              "      <td>9</td>\n",
              "      <td>0.039800</td>\n",
              "      <td>0.506572</td>\n",
              "      <td>5.859661</td>\n",
              "    </tr>\n",
              "    <tr>\n",
              "      <td>10</td>\n",
              "      <td>0.021700</td>\n",
              "      <td>0.505554</td>\n",
              "      <td>5.738515</td>\n",
              "    </tr>\n",
              "  </tbody>\n",
              "</table><p>"
            ],
            "text/plain": [
              "<IPython.core.display.HTML object>"
            ]
          },
          "metadata": {},
          "output_type": "display_data"
        },
        {
          "name": "stderr",
          "output_type": "stream",
          "text": [
            "***** Running Evaluation *****\n",
            "  Num examples = 746\n",
            "  Batch size = 16\n",
            "Saving model checkpoint to /content/drive/MyDrive/task3_model_small_beam5/checkpoint-373\n",
            "Configuration saved in /content/drive/MyDrive/task3_model_small_beam5/checkpoint-373/config.json\n",
            "Model weights saved in /content/drive/MyDrive/task3_model_small_beam5/checkpoint-373/pytorch_model.bin\n",
            "Feature extractor saved in /content/drive/MyDrive/task3_model_small_beam5/checkpoint-373/preprocessor_config.json\n",
            "***** Running Evaluation *****\n",
            "  Num examples = 746\n",
            "  Batch size = 16\n",
            "Saving model checkpoint to /content/drive/MyDrive/task3_model_small_beam5/checkpoint-746\n",
            "Configuration saved in /content/drive/MyDrive/task3_model_small_beam5/checkpoint-746/config.json\n",
            "Model weights saved in /content/drive/MyDrive/task3_model_small_beam5/checkpoint-746/pytorch_model.bin\n",
            "Feature extractor saved in /content/drive/MyDrive/task3_model_small_beam5/checkpoint-746/preprocessor_config.json\n",
            "***** Running Evaluation *****\n",
            "  Num examples = 746\n",
            "  Batch size = 16\n",
            "Saving model checkpoint to /content/drive/MyDrive/task3_model_small_beam5/checkpoint-1119\n",
            "Configuration saved in /content/drive/MyDrive/task3_model_small_beam5/checkpoint-1119/config.json\n",
            "Model weights saved in /content/drive/MyDrive/task3_model_small_beam5/checkpoint-1119/pytorch_model.bin\n",
            "Feature extractor saved in /content/drive/MyDrive/task3_model_small_beam5/checkpoint-1119/preprocessor_config.json\n",
            "***** Running Evaluation *****\n",
            "  Num examples = 746\n",
            "  Batch size = 16\n",
            "Saving model checkpoint to /content/drive/MyDrive/task3_model_small_beam5/checkpoint-1492\n",
            "Configuration saved in /content/drive/MyDrive/task3_model_small_beam5/checkpoint-1492/config.json\n",
            "Model weights saved in /content/drive/MyDrive/task3_model_small_beam5/checkpoint-1492/pytorch_model.bin\n",
            "Feature extractor saved in /content/drive/MyDrive/task3_model_small_beam5/checkpoint-1492/preprocessor_config.json\n",
            "***** Running Evaluation *****\n",
            "  Num examples = 746\n",
            "  Batch size = 16\n",
            "Saving model checkpoint to /content/drive/MyDrive/task3_model_small_beam5/checkpoint-1865\n",
            "Configuration saved in /content/drive/MyDrive/task3_model_small_beam5/checkpoint-1865/config.json\n",
            "Model weights saved in /content/drive/MyDrive/task3_model_small_beam5/checkpoint-1865/pytorch_model.bin\n",
            "Feature extractor saved in /content/drive/MyDrive/task3_model_small_beam5/checkpoint-1865/preprocessor_config.json\n",
            "***** Running Evaluation *****\n",
            "  Num examples = 746\n",
            "  Batch size = 16\n",
            "Saving model checkpoint to /content/drive/MyDrive/task3_model_small_beam5/checkpoint-2238\n",
            "Configuration saved in /content/drive/MyDrive/task3_model_small_beam5/checkpoint-2238/config.json\n",
            "Model weights saved in /content/drive/MyDrive/task3_model_small_beam5/checkpoint-2238/pytorch_model.bin\n",
            "Feature extractor saved in /content/drive/MyDrive/task3_model_small_beam5/checkpoint-2238/preprocessor_config.json\n",
            "***** Running Evaluation *****\n",
            "  Num examples = 746\n",
            "  Batch size = 16\n",
            "Saving model checkpoint to /content/drive/MyDrive/task3_model_small_beam5/checkpoint-2611\n",
            "Configuration saved in /content/drive/MyDrive/task3_model_small_beam5/checkpoint-2611/config.json\n",
            "Model weights saved in /content/drive/MyDrive/task3_model_small_beam5/checkpoint-2611/pytorch_model.bin\n",
            "Feature extractor saved in /content/drive/MyDrive/task3_model_small_beam5/checkpoint-2611/preprocessor_config.json\n",
            "***** Running Evaluation *****\n",
            "  Num examples = 746\n",
            "  Batch size = 16\n",
            "Saving model checkpoint to /content/drive/MyDrive/task3_model_small_beam5/checkpoint-2984\n",
            "Configuration saved in /content/drive/MyDrive/task3_model_small_beam5/checkpoint-2984/config.json\n",
            "Model weights saved in /content/drive/MyDrive/task3_model_small_beam5/checkpoint-2984/pytorch_model.bin\n",
            "Feature extractor saved in /content/drive/MyDrive/task3_model_small_beam5/checkpoint-2984/preprocessor_config.json\n",
            "***** Running Evaluation *****\n",
            "  Num examples = 746\n",
            "  Batch size = 16\n",
            "Saving model checkpoint to /content/drive/MyDrive/task3_model_small_beam5/checkpoint-3357\n",
            "Configuration saved in /content/drive/MyDrive/task3_model_small_beam5/checkpoint-3357/config.json\n",
            "Model weights saved in /content/drive/MyDrive/task3_model_small_beam5/checkpoint-3357/pytorch_model.bin\n",
            "Feature extractor saved in /content/drive/MyDrive/task3_model_small_beam5/checkpoint-3357/preprocessor_config.json\n",
            "***** Running Evaluation *****\n",
            "  Num examples = 746\n",
            "  Batch size = 16\n",
            "Saving model checkpoint to /content/drive/MyDrive/task3_model_small_beam5/checkpoint-3730\n",
            "Configuration saved in /content/drive/MyDrive/task3_model_small_beam5/checkpoint-3730/config.json\n",
            "Model weights saved in /content/drive/MyDrive/task3_model_small_beam5/checkpoint-3730/pytorch_model.bin\n",
            "Feature extractor saved in /content/drive/MyDrive/task3_model_small_beam5/checkpoint-3730/preprocessor_config.json\n",
            "\n",
            "\n",
            "Training completed. Do not forget to share your model on huggingface.co/models =)\n",
            "\n",
            "\n"
          ]
        },
        {
          "data": {
            "text/plain": [
              "TrainOutput(global_step=3730, training_loss=0.4198709288487166, metrics={'train_runtime': 5786.5227, 'train_samples_per_second': 10.31, 'train_steps_per_second': 0.645, 'total_flos': 7.136808851440927e+18, 'train_loss': 0.4198709288487166, 'epoch': 10.0})"
            ]
          },
          "execution_count": 19,
          "metadata": {},
          "output_type": "execute_result"
        }
      ],
      "source": [
        "# finetine the pretrained model\n",
        "trainer.train()"
      ]
    },
    {
      "cell_type": "code",
      "execution_count": 20,
      "metadata": {
        "colab": {
          "base_uri": "https://localhost:8080/"
        },
        "id": "wTrC-SU1K8xq",
        "outputId": "8343f636-f67f-44a1-d106-29f5a3e2e7c4"
      },
      "outputs": [
        {
          "name": "stderr",
          "output_type": "stream",
          "text": [
            "loading configuration file /content/drive/MyDrive/task3_model_small_beam5/checkpoint-3730/config.json\n",
            "Model config VisionEncoderDecoderConfig {\n",
            "  \"_name_or_path\": \"microsoft/trocr-small-stage1\",\n",
            "  \"architectures\": [\n",
            "    \"VisionEncoderDecoderModel\"\n",
            "  ],\n",
            "  \"decoder\": {\n",
            "    \"_name_or_path\": \"\",\n",
            "    \"activation_dropout\": 0.0,\n",
            "    \"activation_function\": \"relu\",\n",
            "    \"add_cross_attention\": true,\n",
            "    \"architectures\": null,\n",
            "    \"attention_dropout\": 0.0,\n",
            "    \"bad_words_ids\": null,\n",
            "    \"bos_token_id\": 0,\n",
            "    \"chunk_size_feed_forward\": 0,\n",
            "    \"classifier_dropout\": 0.0,\n",
            "    \"cross_attention_hidden_size\": 384,\n",
            "    \"d_model\": 256,\n",
            "    \"decoder_attention_heads\": 8,\n",
            "    \"decoder_ffn_dim\": 1024,\n",
            "    \"decoder_layerdrop\": 0.0,\n",
            "    \"decoder_layers\": 6,\n",
            "    \"decoder_start_token_id\": 2,\n",
            "    \"diversity_penalty\": 0.0,\n",
            "    \"do_sample\": false,\n",
            "    \"dropout\": 0.1,\n",
            "    \"early_stopping\": false,\n",
            "    \"encoder_no_repeat_ngram_size\": 0,\n",
            "    \"eos_token_id\": 2,\n",
            "    \"exponential_decay_length_penalty\": null,\n",
            "    \"finetuning_task\": null,\n",
            "    \"forced_bos_token_id\": null,\n",
            "    \"forced_eos_token_id\": null,\n",
            "    \"id2label\": {\n",
            "      \"0\": \"LABEL_0\",\n",
            "      \"1\": \"LABEL_1\"\n",
            "    },\n",
            "    \"init_std\": 0.02,\n",
            "    \"is_decoder\": true,\n",
            "    \"is_encoder_decoder\": false,\n",
            "    \"label2id\": {\n",
            "      \"LABEL_0\": 0,\n",
            "      \"LABEL_1\": 1\n",
            "    },\n",
            "    \"layernorm_embedding\": true,\n",
            "    \"length_penalty\": 1.0,\n",
            "    \"max_length\": 20,\n",
            "    \"max_position_embeddings\": 512,\n",
            "    \"min_length\": 0,\n",
            "    \"model_type\": \"trocr\",\n",
            "    \"no_repeat_ngram_size\": 0,\n",
            "    \"num_beam_groups\": 1,\n",
            "    \"num_beams\": 1,\n",
            "    \"num_return_sequences\": 1,\n",
            "    \"output_attentions\": false,\n",
            "    \"output_hidden_states\": false,\n",
            "    \"output_scores\": false,\n",
            "    \"pad_token_id\": 1,\n",
            "    \"prefix\": null,\n",
            "    \"problem_type\": null,\n",
            "    \"pruned_heads\": {},\n",
            "    \"remove_invalid_values\": false,\n",
            "    \"repetition_penalty\": 1.0,\n",
            "    \"return_dict\": true,\n",
            "    \"return_dict_in_generate\": false,\n",
            "    \"scale_embedding\": true,\n",
            "    \"sep_token_id\": null,\n",
            "    \"task_specific_params\": null,\n",
            "    \"temperature\": 1.0,\n",
            "    \"tie_encoder_decoder\": false,\n",
            "    \"tie_word_embeddings\": false,\n",
            "    \"tokenizer_class\": null,\n",
            "    \"top_k\": 50,\n",
            "    \"top_p\": 1.0,\n",
            "    \"torch_dtype\": null,\n",
            "    \"torchscript\": false,\n",
            "    \"transformers_version\": \"4.19.2\",\n",
            "    \"typical_p\": 1.0,\n",
            "    \"use_bfloat16\": false,\n",
            "    \"use_cache\": false,\n",
            "    \"use_learned_position_embeddings\": true,\n",
            "    \"vocab_size\": 64044\n",
            "  },\n",
            "  \"decoder_start_token_id\": 0,\n",
            "  \"early_stopping\": true,\n",
            "  \"encoder\": {\n",
            "    \"_name_or_path\": \"\",\n",
            "    \"add_cross_attention\": false,\n",
            "    \"architectures\": null,\n",
            "    \"attention_probs_dropout_prob\": 0.0,\n",
            "    \"bad_words_ids\": null,\n",
            "    \"bos_token_id\": null,\n",
            "    \"chunk_size_feed_forward\": 0,\n",
            "    \"cross_attention_hidden_size\": null,\n",
            "    \"decoder_start_token_id\": null,\n",
            "    \"diversity_penalty\": 0.0,\n",
            "    \"do_sample\": false,\n",
            "    \"early_stopping\": false,\n",
            "    \"encoder_no_repeat_ngram_size\": 0,\n",
            "    \"encoder_stride\": 16,\n",
            "    \"eos_token_id\": null,\n",
            "    \"exponential_decay_length_penalty\": null,\n",
            "    \"finetuning_task\": null,\n",
            "    \"forced_bos_token_id\": null,\n",
            "    \"forced_eos_token_id\": null,\n",
            "    \"hidden_act\": \"gelu\",\n",
            "    \"hidden_dropout_prob\": 0.0,\n",
            "    \"hidden_size\": 384,\n",
            "    \"id2label\": {\n",
            "      \"0\": \"LABEL_0\",\n",
            "      \"1\": \"LABEL_1\"\n",
            "    },\n",
            "    \"image_size\": 384,\n",
            "    \"initializer_range\": 0.02,\n",
            "    \"intermediate_size\": 1536,\n",
            "    \"is_decoder\": false,\n",
            "    \"is_encoder_decoder\": false,\n",
            "    \"label2id\": {\n",
            "      \"LABEL_0\": 0,\n",
            "      \"LABEL_1\": 1\n",
            "    },\n",
            "    \"layer_norm_eps\": 1e-12,\n",
            "    \"length_penalty\": 1.0,\n",
            "    \"max_length\": 20,\n",
            "    \"min_length\": 0,\n",
            "    \"model_type\": \"deit\",\n",
            "    \"no_repeat_ngram_size\": 0,\n",
            "    \"num_attention_heads\": 6,\n",
            "    \"num_beam_groups\": 1,\n",
            "    \"num_beams\": 1,\n",
            "    \"num_channels\": 3,\n",
            "    \"num_hidden_layers\": 12,\n",
            "    \"num_return_sequences\": 1,\n",
            "    \"output_attentions\": false,\n",
            "    \"output_hidden_states\": false,\n",
            "    \"output_scores\": false,\n",
            "    \"pad_token_id\": null,\n",
            "    \"patch_size\": 16,\n",
            "    \"prefix\": null,\n",
            "    \"problem_type\": null,\n",
            "    \"pruned_heads\": {},\n",
            "    \"qkv_bias\": true,\n",
            "    \"remove_invalid_values\": false,\n",
            "    \"repetition_penalty\": 1.0,\n",
            "    \"return_dict\": true,\n",
            "    \"return_dict_in_generate\": false,\n",
            "    \"sep_token_id\": null,\n",
            "    \"task_specific_params\": null,\n",
            "    \"temperature\": 1.0,\n",
            "    \"tie_encoder_decoder\": false,\n",
            "    \"tie_word_embeddings\": true,\n",
            "    \"tokenizer_class\": null,\n",
            "    \"top_k\": 50,\n",
            "    \"top_p\": 1.0,\n",
            "    \"torch_dtype\": null,\n",
            "    \"torchscript\": false,\n",
            "    \"transformers_version\": \"4.19.2\",\n",
            "    \"typical_p\": 1.0,\n",
            "    \"use_bfloat16\": false\n",
            "  },\n",
            "  \"eos_token_id\": 2,\n",
            "  \"is_encoder_decoder\": true,\n",
            "  \"max_length\": 64,\n",
            "  \"model_type\": \"vision-encoder-decoder\",\n",
            "  \"no_repeat_ngram_size\": 3,\n",
            "  \"num_beams\": 5,\n",
            "  \"pad_token_id\": 1,\n",
            "  \"tie_word_embeddings\": false,\n",
            "  \"torch_dtype\": \"float32\",\n",
            "  \"transformers_version\": null,\n",
            "  \"vocab_size\": 64044\n",
            "}\n",
            "\n",
            "loading weights file /content/drive/MyDrive/task3_model_small_beam5/checkpoint-3730/pytorch_model.bin\n",
            "All model checkpoint weights were used when initializing VisionEncoderDecoderModel.\n",
            "\n",
            "All the weights of VisionEncoderDecoderModel were initialized from the model checkpoint at /content/drive/MyDrive/task3_model_small_beam5/checkpoint-3730.\n",
            "If your task is similar to the task the model of the checkpoint was trained on, you can already use VisionEncoderDecoderModel for predictions without further training.\n"
          ]
        }
      ],
      "source": [
        "# load finetuned model\n",
        "model = VisionEncoderDecoderModel.from_pretrained(\"models/trocr-small-5beam/checkpoint-3730\")"
      ]
    },
    {
      "cell_type": "code",
      "execution_count": 21,
      "metadata": {
        "id": "1g0JbdhFLCWx"
      },
      "outputs": [],
      "source": [
        "# Evaluate model on test data and report CER\n",
        "img_dir = 'IAM-data/IAM-data/img/'\n",
        "generated_texts = []\n",
        "for index, row in test_data.iterrows():\n",
        "    file = row[\"file_name\"] \n",
        "    image = Image.open(os.path.join(img_dir, file)).convert(\"RGB\")\n",
        "\n",
        "    pixel_values = processor(image, return_tensors=\"pt\").pixel_values\n",
        "    generated_ids = model.generate(pixel_values)\n",
        "    generated_text = processor.batch_decode(generated_ids, skip_special_tokens=True)[0]\n",
        "\n",
        "    generated_texts.append(generated_text)"
      ]
    },
    {
      "cell_type": "code",
      "execution_count": 23,
      "metadata": {
        "colab": {
          "base_uri": "https://localhost:8080/"
        },
        "id": "gOnV8x9bLJbp",
        "outputId": "439f1a0b-046a-43e1-c484-ef1598f4b7ed"
      },
      "outputs": [
        {
          "name": "stdout",
          "output_type": "stream",
          "text": [
            "CER on test data: 6.1003861003861\n"
          ]
        }
      ],
      "source": [
        "cer = cer_metric.compute(predictions=generated_texts, references=test_data['text'].tolist())\n",
        "cer = cer * 100\n",
        "print(\"CER on test data:\", cer)"
      ]
    }
  ],
  "metadata": {
    "accelerator": "GPU",
    "colab": {
      "collapsed_sections": [],
      "name": "task3_iam.ipynb",
      "provenance": []
    },
    "interpreter": {
      "hash": "19ffe857a2ab32f5ffd08fe3d367f83053230d937faf3a2e2967295e5b1b4b03"
    },
    "kernelspec": {
      "display_name": "Python 3.9.12 64-bit (windows store)",
      "language": "python",
      "name": "python3"
    },
    "language_info": {
      "codemirror_mode": {
        "name": "ipython",
        "version": 3
      },
      "file_extension": ".py",
      "mimetype": "text/x-python",
      "name": "python",
      "nbconvert_exporter": "python",
      "pygments_lexer": "ipython3",
      "version": "3.9.13"
    },
    "orig_nbformat": 4
  },
  "nbformat": 4,
  "nbformat_minor": 0
}
