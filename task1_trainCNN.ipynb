{
 "cells": [
  {
   "cell_type": "code",
   "execution_count": 10,
   "metadata": {},
   "outputs": [],
   "source": [
    "import cv2\n",
    "import numpy as np \n",
    "import pandas as pd \n",
    "from sklearn.model_selection import train_test_split\n",
    "import keras \n",
    "from keras.models import Sequential\n",
    "from keras.layers import Conv2D, Dense, MaxPool2D, Dropout, Flatten\n",
    "from keras.callbacks import ModelCheckpoint\n",
    "from sklearn.preprocessing import LabelBinarizer\n",
    "import matplotlib.pyplot as plt"
   ]
  },
  {
   "cell_type": "code",
   "execution_count": 11,
   "metadata": {},
   "outputs": [],
   "source": [
    "# load monkbrill jpg data\n",
    "data = dict()\n",
    "data['label'] = []\n",
    "data['filename'] = []\n",
    "data['data'] = []   \n",
    "\n",
    "data_path = \"monkbrill-jpg/\"\n",
    "for subdir in os.listdir(data_path):\n",
    "    current_path = os.path.join(data_path, subdir)\n",
    "\n",
    "    for file in os.listdir(current_path):\n",
    "        im = cv2.imread(os.path.join(current_path, file), cv2.IMREAD_GRAYSCALE)\n",
    "        im = cv2.resize(im, (38, 48)) # (width, height)\n",
    "        data['label'].append(subdir)\n",
    "        data['filename'].append(file)\n",
    "        data['data'].append(im)"
   ]
  },
  {
   "cell_type": "code",
   "execution_count": 12,
   "metadata": {},
   "outputs": [],
   "source": [
    "# load monkbrill jpg augmented data if yet created\n",
    "data_augmented = dict()\n",
    "data_augmented['label'] = []\n",
    "data_augmented['filename'] = []\n",
    "data_augmented['data'] = []   \n",
    "\n",
    "data_path = \"monkbrill-jpg-augmented/\"\n",
    "for subdir in os.listdir(data_path):\n",
    "    current_path = os.path.join(data_path, subdir)\n",
    "\n",
    "    for file in os.listdir(current_path):\n",
    "        im = cv2.imread(os.path.join(current_path, file), cv2.IMREAD_GRAYSCALE)\n",
    "        im = cv2.resize(im, (38, 48)) # (width, height)\n",
    "        data_augmented['label'].append(subdir)\n",
    "        data_augmented['filename'].append(file)\n",
    "        data_augmented['data'].append(im)"
   ]
  },
  {
   "cell_type": "code",
   "execution_count": 13,
   "metadata": {},
   "outputs": [],
   "source": [
    "# one-hot encode class labels\n",
    "encoder = LabelBinarizer()\n",
    "onehot_labels = encoder.fit_transform(data['label'])\n",
    "\n",
    "# one-hot encode class labels\n",
    "encoder = LabelBinarizer()\n",
    "onehot_labels_augmented = encoder.fit_transform(data_augmented['label'])"
   ]
  },
  {
   "cell_type": "code",
   "execution_count": 14,
   "metadata": {},
   "outputs": [],
   "source": [
    "# split in training and validation data and normalize\n",
    "# X_train, X_val, y_train, y_val = train_test_split(data['data'], onehot_labels, test_size=0.2, random_state=0, shuffle=True)\n",
    "# X_train = np.array(X_train) / 255.0\n",
    "# y_train = np.array(y_train) \n",
    "# X_val = np.array(X_val) / 255.0\n",
    "# y_val = np.array(y_val)\n",
    "\n",
    "original_test_data =  np.array(data['data'])\n",
    "onehot_labels = encoder.fit_transform(data['label'])\n",
    "\n",
    "\n",
    "X_train_aug, X_val_aug, y_train_aug, y_val_aug = train_test_split(data_augmented['data'], onehot_labels_augmented, test_size=0.2, random_state=0, shuffle=True)\n",
    "X_train_aug = np.array(X_train_aug) / 255.0\n",
    "y_train_aug = np.array(y_train_aug) \n",
    "X_val_aug = np.array(X_val_aug) / 255.0\n",
    "y_val_aug = np.array(y_val_aug)\n"
   ]
  },
  {
   "cell_type": "code",
   "execution_count": 15,
   "metadata": {},
   "outputs": [
    {
     "name": "stdout",
     "output_type": "stream",
     "text": [
      "Model: \"sequential_1\"\n",
      "_________________________________________________________________\n",
      " Layer (type)                Output Shape              Param #   \n",
      "=================================================================\n",
      " conv2d_2 (Conv2D)           (None, 48, 38, 32)        832       \n",
      "                                                                 \n",
      " max_pooling2d_2 (MaxPooling  (None, 24, 19, 32)       0         \n",
      " 2D)                                                             \n",
      "                                                                 \n",
      " conv2d_3 (Conv2D)           (None, 20, 15, 48)        38448     \n",
      "                                                                 \n",
      " max_pooling2d_3 (MaxPooling  (None, 10, 7, 48)        0         \n",
      " 2D)                                                             \n",
      "                                                                 \n",
      " dropout_2 (Dropout)         (None, 10, 7, 48)         0         \n",
      "                                                                 \n",
      " flatten_1 (Flatten)         (None, 3360)              0         \n",
      "                                                                 \n",
      " dense_3 (Dense)             (None, 256)               860416    \n",
      "                                                                 \n",
      " dense_4 (Dense)             (None, 84)                21588     \n",
      "                                                                 \n",
      " dropout_3 (Dropout)         (None, 84)                0         \n",
      "                                                                 \n",
      " dense_5 (Dense)             (None, 27)                2295      \n",
      "                                                                 \n",
      "=================================================================\n",
      "Total params: 923,579\n",
      "Trainable params: 923,579\n",
      "Non-trainable params: 0\n",
      "_________________________________________________________________\n"
     ]
    }
   ],
   "source": [
    "# Build LeNet model\n",
    "model = Sequential()\n",
    "model.add(Conv2D(filters=32, kernel_size=(5,5), padding='same', activation='relu', input_shape=(48, 38, 1)))\n",
    "model.add(MaxPool2D(strides=2))\n",
    "model.add(Conv2D(filters=48, kernel_size=(5,5), padding='valid', activation='relu'))\n",
    "model.add(MaxPool2D(strides=2))\n",
    "model.add(Dropout(0.2))\n",
    "model.add(Flatten())\n",
    "model.add(Dense(256, activation='relu'))\n",
    "model.add(Dense(84, activation='relu'))\n",
    "model.add(Dropout(0.2))\n",
    "model.add(Dense(27, activation='softmax'))\n",
    "\n",
    "model.summary()"
   ]
  },
  {
   "cell_type": "code",
   "execution_count": 16,
   "metadata": {},
   "outputs": [
    {
     "name": "stdout",
     "output_type": "stream",
     "text": [
      "Epoch 1/10\n",
      "1250/1250 [==============================] - 53s 42ms/step - loss: 0.5904 - accuracy: 0.8159 - val_loss: 0.1735 - val_accuracy: 0.9416\n",
      "Epoch 2/10\n",
      "1250/1250 [==============================] - 53s 42ms/step - loss: 0.1777 - accuracy: 0.9407 - val_loss: 0.1165 - val_accuracy: 0.9628\n",
      "Epoch 3/10\n",
      "1250/1250 [==============================] - 52s 41ms/step - loss: 0.1113 - accuracy: 0.9619 - val_loss: 0.0776 - val_accuracy: 0.9746\n",
      "Epoch 4/10\n",
      "1250/1250 [==============================] - 52s 42ms/step - loss: 0.0761 - accuracy: 0.9745 - val_loss: 0.0779 - val_accuracy: 0.9779\n",
      "Epoch 5/10\n",
      "1250/1250 [==============================] - 52s 42ms/step - loss: 0.0596 - accuracy: 0.9815 - val_loss: 0.0635 - val_accuracy: 0.9804\n",
      "Epoch 6/10\n",
      "1250/1250 [==============================] - 53s 42ms/step - loss: 0.0524 - accuracy: 0.9827 - val_loss: 0.0568 - val_accuracy: 0.9834\n",
      "Epoch 7/10\n",
      "1250/1250 [==============================] - 54s 43ms/step - loss: 0.0429 - accuracy: 0.9863 - val_loss: 0.0540 - val_accuracy: 0.9843\n",
      "Epoch 8/10\n",
      "1250/1250 [==============================] - 54s 43ms/step - loss: 0.0339 - accuracy: 0.9884 - val_loss: 0.0539 - val_accuracy: 0.9853\n",
      "Epoch 9/10\n",
      "1250/1250 [==============================] - 55s 44ms/step - loss: 0.0354 - accuracy: 0.9889 - val_loss: 0.0610 - val_accuracy: 0.9850\n",
      "Epoch 10/10\n",
      "1250/1250 [==============================] - 56s 45ms/step - loss: 0.0282 - accuracy: 0.9908 - val_loss: 0.0683 - val_accuracy: 0.9855\n"
     ]
    }
   ],
   "source": [
    "# Compile and train model\n",
    "model.compile(loss='categorical_crossentropy', metrics=['accuracy'], optimizer='adam')\n",
    "if not os.path.exists('models'):\n",
    "        os.makedirs('models')\n",
    "model_filepath = 'models/LeNet_model.h5'\n",
    "callback = ModelCheckpoint(filepath=model_filepath, save_weights_only=True, monitor='val_loss', mode='min', save_best_only=True)\n",
    "history = model.fit(X_train_aug, y_train_aug, epochs=10, validation_data = (X_val_aug, y_val_aug), callbacks = [callback], verbose=1)"
   ]
  },
  {
   "cell_type": "code",
   "execution_count": 17,
   "metadata": {},
   "outputs": [
    {
     "data": {
      "image/png": "[encoded data removed]",
      "text/plain": [
       "<Figure size 432x288 with 1 Axes>"
      ]
     },
     "metadata": {
      "needs_background": "light"
     },
     "output_type": "display_data"
    }
   ],
   "source": [
    "# Plot the loss\n",
    "plt.plot(history.history['loss'], label = 'Training loss')\n",
    "plt.plot(history.history['val_loss'], label = 'Validation loss')\n",
    "plt.ylabel('Loss')\n",
    "plt.xlabel('Epoch')\n",
    "plt.legend()\n",
    "plt.grid()\n",
    "plt.show()\n"
   ]
  },
  {
   "cell_type": "code",
   "execution_count": 18,
   "metadata": {},
   "outputs": [
    {
     "data": {
      "image/png": "[encoded data removed]",
      "text/plain": [
       "<Figure size 432x288 with 1 Axes>"
      ]
     },
     "metadata": {
      "needs_background": "light"
     },
     "output_type": "display_data"
    }
   ],
   "source": [
    "# Plot the accurcy\n",
    "plt.plot(history.history['accuracy'], label = 'Training accuracy')\n",
    "plt.plot(history.history['val_accuracy'], label = 'Validation accuracy')\n",
    "plt.ylabel('Accuracy')\n",
    "plt.xlabel('Epoch')\n",
    "plt.legend()\n",
    "plt.grid()\n",
    "plt.show()"
   ]
  },
  {
   "cell_type": "code",
   "execution_count": 19,
   "metadata": {},
   "outputs": [
    {
     "name": "stdout",
     "output_type": "stream",
     "text": [
      "Test loss: 0.11861389130353928\n",
      "Test accuracy: 0.9996387958526611\n"
     ]
    }
   ],
   "source": [
    "score_original_data = model.evaluate(original_test_data, onehot_labels, verbose = 0)\n",
    "print('Test loss on original data:', score_original_data [0]) \n",
    "print('Test accuracy on original data:', score_original_data [1])"
   ]
  }
 ],
 "metadata": {
  "interpreter": {
   "hash": "19ffe857a2ab32f5ffd08fe3d367f83053230d937faf3a2e2967295e5b1b4b03"
  },
  "kernelspec": {
   "display_name": "Python 3.9.12 64-bit (windows store)",
   "language": "python",
   "name": "python3"
  },
  "language_info": {
   "codemirror_mode": {
    "name": "ipython",
    "version": 3
   },
   "file_extension": ".py",
   "mimetype": "text/x-python",
   "name": "python",
   "nbconvert_exporter": "python",
   "pygments_lexer": "ipython3",
   "version": "3.9.12"
  },
  "orig_nbformat": 4
 },
 "nbformat": 4,
 "nbformat_minor": 2
}
